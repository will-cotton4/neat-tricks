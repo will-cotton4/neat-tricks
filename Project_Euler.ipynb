{
  "nbformat": 4,
  "nbformat_minor": 0,
  "metadata": {
    "colab": {
      "name": "Project Euler",
      "version": "0.3.2",
      "provenance": [],
      "collapsed_sections": [
        "eteiQCn_AEMo",
        "1PnabcOlChit"
      ],
      "include_colab_link": true
    },
    "kernelspec": {
      "name": "python3",
      "display_name": "Python 3"
    }
  },
  "cells": [
    {
      "cell_type": "markdown",
      "metadata": {
        "id": "view-in-github",
        "colab_type": "text"
      },
      "source": [
        "<a href=\"https://colab.research.google.com/github/will-cotton4/neat-tricks/blob/master/Project_Euler.ipynb\" target=\"_parent\"><img src=\"https://colab.research.google.com/assets/colab-badge.svg\" alt=\"Open In Colab\"/></a>"
      ]
    },
    {
      "cell_type": "markdown",
      "metadata": {
        "id": "eteiQCn_AEMo",
        "colab_type": "text"
      },
      "source": [
        "## Find the sum of all the multiples of 3 or 5 below 1000."
      ]
    },
    {
      "cell_type": "code",
      "metadata": {
        "id": "P4qgOXGhALAo",
        "colab_type": "code",
        "colab": {}
      },
      "source": [
        "import numpy as np\n",
        "\n",
        "def mult_of_x(num, x):\n",
        "  if (num%x == 0):\n",
        "    return True\n",
        "  else:\n",
        "    return False\n"
      ],
      "execution_count": 0,
      "outputs": []
    },
    {
      "cell_type": "code",
      "metadata": {
        "id": "olnSfev2AahW",
        "colab_type": "code",
        "outputId": "b7f7efb7-bbb3-4699-b450-9639aa3ee86c",
        "colab": {
          "base_uri": "https://localhost:8080/",
          "height": 34
        }
      },
      "source": [
        "mult_of_five = [num for num in range(1, 1001) if mult_of_x(num, 5)]\n",
        "mult_of_three = [num for num in range(1, 1001) if mult_of_x(num, 3)]\n",
        "\n",
        "comb_mult = mult_of_five\n",
        "for mult in mult_of_three:\n",
        "#   comb_mult.append(mult)\n",
        "  if mult in comb_mult:\n",
        "    pass\n",
        "  else:\n",
        "    comb_mult.append(mult)\n",
        "\n",
        "print(sum(comb_mult))"
      ],
      "execution_count": 0,
      "outputs": [
        {
          "output_type": "stream",
          "text": [
            "234168\n"
          ],
          "name": "stdout"
        }
      ]
    },
    {
      "cell_type": "markdown",
      "metadata": {
        "id": "1PnabcOlChit",
        "colab_type": "text"
      },
      "source": [
        "## By considering the terms in the Fibonacci sequence whose values do not exceed four million, find the sum of the even-valued terms."
      ]
    },
    {
      "cell_type": "code",
      "metadata": {
        "id": "BBHxqc4fCiz5",
        "colab_type": "code",
        "outputId": "ca225b39-b11c-4a3f-f509-77fee64a7e4f",
        "colab": {
          "base_uri": "https://localhost:8080/",
          "height": 34
        }
      },
      "source": [
        "fib_terms = [1,1,2]\n",
        "term = 0\n",
        "i = 2\n",
        "while term <= 4000000:\n",
        "  term = fib_terms[i] + fib_terms[i-1]\n",
        "  fib_terms.append(term)\n",
        "  i+=1\n",
        "  \n",
        "even_fib_terms = [term for term in fib_terms if mult_of_x(term, 2)]\n",
        "print(sum(even_fib_terms))"
      ],
      "execution_count": 0,
      "outputs": [
        {
          "output_type": "stream",
          "text": [
            "4613732\n"
          ],
          "name": "stdout"
        }
      ]
    },
    {
      "cell_type": "markdown",
      "metadata": {
        "id": "gdMGf_c3GBOe",
        "colab_type": "text"
      },
      "source": [
        "## What is the largest prime factor of the number 600851475143?"
      ]
    },
    {
      "cell_type": "code",
      "metadata": {
        "id": "kvZ4B4XdGbs6",
        "colab_type": "code",
        "colab": {}
      },
      "source": [
        "def is_prime(n):\n",
        "    \"\"\"\n",
        "    Assumes that n is a positive natural number\n",
        "    \"\"\"\n",
        "    # We know 1 is not a prime number\n",
        "    if n == 1:\n",
        "        return False\n",
        "\n",
        "    i = 2\n",
        "    # This will loop from 2 to int(sqrt(x))\n",
        "    while i*i <= n:\n",
        "        # Check if i divides x without leaving a remainder\n",
        "        if n % i == 0:\n",
        "            # This means that n has a factor in between 2 and sqrt(n)\n",
        "            # So it is not a prime number\n",
        "            return False\n",
        "        i += 1\n",
        "    # If we did not find any factor in the above loop,\n",
        "    # then n is a prime number\n",
        "    return True\n",
        "  \n",
        "def find_prime_factors(n):\n",
        "  prime_factors = []\n",
        "  for num in range(2, n+1):\n",
        "    if is_prime(num):\n",
        "      if mult_of_x(n, num):\n",
        "        prime_factors.append(num)\n",
        "  return prime_factors\n",
        "\n",
        "# print(sum(find_prime_factors(600851475143)))"
      ],
      "execution_count": 0,
      "outputs": []
    },
    {
      "cell_type": "code",
      "metadata": {
        "id": "hmDAwbDnMLr2",
        "colab_type": "code",
        "outputId": "2dba10e8-4cd1-48b9-a3bb-72aced80f617",
        "colab": {
          "base_uri": "https://localhost:8080/",
          "height": 34
        }
      },
      "source": [
        "import timeit\n",
        "\n",
        "timeit.timeit(\"find_prime_factors(10000)\", \n",
        "             setup=\"from __main__ import find_prime_factors\",\n",
        "             number=10)"
      ],
      "execution_count": 0,
      "outputs": [
        {
          "output_type": "execute_result",
          "data": {
            "text/plain": [
              "13.542799648999996"
            ]
          },
          "metadata": {
            "tags": []
          },
          "execution_count": 5
        }
      ]
    },
    {
      "cell_type": "code",
      "metadata": {
        "id": "3sew94awNDG9",
        "colab_type": "code",
        "colab": {}
      },
      "source": [
        "def find_prime_factors_2(n):\n",
        "  prime_factors = []\n",
        "  factor_candidates = list(range(2, n+1))\n",
        "  for num in factor_candidates:\n",
        "    if is_prime(num):\n",
        "      if mult_of_x(n, num):\n",
        "        prime_factors.append(num)\n",
        "        \n",
        "      for cand in factor_candidates:\n",
        "        if mult_of_x(cand, num):\n",
        "          factor_candidates.remove(cand)\n",
        "  return prime_factors"
      ],
      "execution_count": 0,
      "outputs": []
    },
    {
      "cell_type": "code",
      "metadata": {
        "id": "SI1AeUAvOB3M",
        "colab_type": "code",
        "outputId": "87043725-a89e-43b3-fad4-8f1789d7a6d6",
        "colab": {
          "base_uri": "https://localhost:8080/",
          "height": 34
        }
      },
      "source": [
        "timeit.timeit(\"find_prime_factors_2(10000)\", \n",
        "             setup=\"from __main__ import find_prime_factors_2\",\n",
        "             number=10)"
      ],
      "execution_count": 0,
      "outputs": [
        {
          "output_type": "execute_result",
          "data": {
            "text/plain": [
              "12.877533222000011"
            ]
          },
          "metadata": {
            "tags": []
          },
          "execution_count": 16
        }
      ]
    },
    {
      "cell_type": "code",
      "metadata": {
        "id": "TKvS2hg1PMG0",
        "colab_type": "code",
        "colab": {}
      },
      "source": [
        "def find_prime_factors_3(n):\n",
        "  factor_candidates = list(range(2, n+1))\n",
        "  for num in factor_candidates:\n",
        "    if(mult_of_x(n, num)):\n",
        "      if(is_prime(num)):\n",
        "        for cand in factor_candidates:\n",
        "          if((mult_of_x(num, cand)) & (num!=cand)):\n",
        "            factor_candidates.remove(cand)\n",
        "    else: \n",
        "      for cand in factor_candidates:\n",
        "          if((mult_of_x(num, cand))):\n",
        "            factor_candidates.remove(cand)\n",
        "  return factor_candidates"
      ],
      "execution_count": 0,
      "outputs": []
    },
    {
      "cell_type": "code",
      "metadata": {
        "id": "asx3zB35PCjj",
        "colab_type": "code",
        "outputId": "ca89a36d-78f5-4ae6-b5a6-71d6d6f4715d",
        "colab": {
          "base_uri": "https://localhost:8080/",
          "height": 34
        }
      },
      "source": [
        "find_prime_factors_2()"
      ],
      "execution_count": 0,
      "outputs": [
        {
          "output_type": "execute_result",
          "data": {
            "text/plain": [
              "[3]"
            ]
          },
          "metadata": {
            "tags": []
          },
          "execution_count": 14
        }
      ]
    },
    {
      "cell_type": "code",
      "metadata": {
        "id": "WW6nZAJ5wf3g",
        "colab_type": "code",
        "colab": {}
      },
      "source": [
        "def largest_prime(n):\n",
        "  max = int(np.ceil(np.sqrt(n)))\n",
        "  for num in (range(2, max))[::-1]:\n",
        "    if not (is_prime(num)):\n",
        "      pass\n",
        "    else:\n",
        "      if(n%num==0):\n",
        "        return num"
      ],
      "execution_count": 0,
      "outputs": []
    },
    {
      "cell_type": "code",
      "metadata": {
        "id": "GajCU81mSG-e",
        "colab_type": "code",
        "outputId": "2f84de17-b17c-43fd-ae82-b14690c6d77d",
        "colab": {
          "base_uri": "https://localhost:8080/",
          "height": 34
        }
      },
      "source": [
        "largest_prime(600851475143)"
      ],
      "execution_count": 0,
      "outputs": [
        {
          "output_type": "execute_result",
          "data": {
            "text/plain": [
              "6857"
            ]
          },
          "metadata": {
            "tags": []
          },
          "execution_count": 71
        }
      ]
    },
    {
      "cell_type": "code",
      "metadata": {
        "id": "lY8SsWuKvZ8G",
        "colab_type": "code",
        "outputId": "6fe88059-e7e4-48e8-974d-dd79678604cf",
        "colab": {
          "base_uri": "https://localhost:8080/",
          "height": 34
        }
      },
      "source": [
        "def listed_num(num):\n",
        "  num_str = str(num)\n",
        "  listed = []\n",
        "  for digit in num_str:\n",
        "    listed.append(digit)\n",
        "  return listed\n",
        "def reverse_num(num):\n",
        "  return listed_num(num)[::-1]\n",
        "\n",
        "desired_range = list(range(100, 1000))[::-1]\n",
        "max_num = 0\n",
        "for first_num in desired_range:\n",
        "  for second_num in desired_range:\n",
        "    test = first_num*second_num\n",
        "    if(listed_num(test) == reverse_num(test)):\n",
        "      if(test > max_num):\n",
        "        max_num = test\n",
        "        \n",
        "print(max_num)\n",
        "      "
      ],
      "execution_count": 0,
      "outputs": [
        {
          "output_type": "stream",
          "text": [
            "906609\n"
          ],
          "name": "stdout"
        }
      ]
    },
    {
      "cell_type": "code",
      "metadata": {
        "id": "WqIyy6_A-AFT",
        "colab_type": "code",
        "colab": {}
      },
      "source": [
        "def list_smaller_primes(number):\n",
        "  smaller = []\n",
        "  for num in range(1, number):\n",
        "    if(is_prime(num)):\n",
        "      smaller.append(num)\n",
        "      \n",
        "  return smaller"
      ],
      "execution_count": 0,
      "outputs": []
    },
    {
      "cell_type": "code",
      "metadata": {
        "id": "T7VXmeMk-UUz",
        "colab_type": "code",
        "outputId": "b7da89e0-590c-4054-ed10-322caa83745c",
        "colab": {
          "base_uri": "https://localhost:8080/",
          "height": 357
        }
      },
      "source": [
        "product = 1\n",
        "for num in list_smaller_primes(20):\n",
        "  product*=num\n",
        "product*=24\n",
        "print(product)\n",
        "for num in range(1,20):\n",
        "  print(product%num)"
      ],
      "execution_count": 0,
      "outputs": [
        {
          "output_type": "stream",
          "text": [
            "232792560\n",
            "0\n",
            "0\n",
            "0\n",
            "0\n",
            "0\n",
            "0\n",
            "0\n",
            "0\n",
            "0\n",
            "0\n",
            "0\n",
            "0\n",
            "0\n",
            "0\n",
            "0\n",
            "0\n",
            "0\n",
            "0\n",
            "0\n"
          ],
          "name": "stdout"
        }
      ]
    },
    {
      "cell_type": "code",
      "metadata": {
        "id": "Pb0fOOst_Vqj",
        "colab_type": "code",
        "colab": {}
      },
      "source": [
        "def sum_squares(number):\n",
        "  sum_square = 0\n",
        "  for num in range(1, number+1):\n",
        "    sum_square+=num**2\n",
        "  return sum_square\n",
        "\n",
        "def square_sums(number):\n",
        "  square_sum = 0\n",
        "  for num in range(1,number+1):\n",
        "    square_sum += num\n",
        "  return square_sum**2"
      ],
      "execution_count": 0,
      "outputs": []
    },
    {
      "cell_type": "code",
      "metadata": {
        "id": "RHFgaJ4D_cf6",
        "colab_type": "code",
        "outputId": "6cd36c71-27d1-4197-ea75-dceaf57f655b",
        "colab": {
          "base_uri": "https://localhost:8080/",
          "height": 34
        }
      },
      "source": [
        "square_sums(100)-sum_squares(100)"
      ],
      "execution_count": 0,
      "outputs": [
        {
          "output_type": "execute_result",
          "data": {
            "text/plain": [
              "25164150"
            ]
          },
          "metadata": {
            "tags": []
          },
          "execution_count": 69
        }
      ]
    },
    {
      "cell_type": "code",
      "metadata": {
        "id": "tqZXDrehBJ9S",
        "colab_type": "code",
        "colab": {}
      },
      "source": [
        "def sieve(max_size):\n",
        "  candidates = list(range(1,max_size))\n",
        "  for candidate in candidates:\n",
        "    for other in candidates:\n",
        "      if candidate != other:\n",
        "        if other%candidate == 0:\n",
        "          candidates.remove(other)\n",
        "  return candidates"
      ],
      "execution_count": 0,
      "outputs": []
    },
    {
      "cell_type": "code",
      "metadata": {
        "id": "7bL3Upd8MgUs",
        "colab_type": "code",
        "outputId": "e8e5aa8e-254c-4654-d4d0-18da2eaee3d0",
        "colab": {
          "base_uri": "https://localhost:8080/",
          "height": 34
        }
      },
      "source": [
        "len(sieve(100000))"
      ],
      "execution_count": 0,
      "outputs": [
        {
          "output_type": "execute_result",
          "data": {
            "text/plain": [
              "9592"
            ]
          },
          "metadata": {
            "tags": []
          },
          "execution_count": 26
        }
      ]
    },
    {
      "cell_type": "code",
      "metadata": {
        "id": "IzxEJpwLMzKk",
        "colab_type": "code",
        "colab": {}
      },
      "source": [
        "big_num = \"\"\"73167176531330624919225119674426574742355349194934\n",
        "96983520312774506326239578318016984801869478851843\n",
        "85861560789112949495459501737958331952853208805511\n",
        "12540698747158523863050715693290963295227443043557\n",
        "66896648950445244523161731856403098711121722383113\n",
        "62229893423380308135336276614282806444486645238749\n",
        "30358907296290491560440772390713810515859307960866\n",
        "70172427121883998797908792274921901699720888093776\n",
        "65727333001053367881220235421809751254540594752243\n",
        "52584907711670556013604839586446706324415722155397\n",
        "53697817977846174064955149290862569321978468622482\n",
        "83972241375657056057490261407972968652414535100474\n",
        "82166370484403199890008895243450658541227588666881\n",
        "16427171479924442928230863465674813919123162824586\n",
        "17866458359124566529476545682848912883142607690042\n",
        "24219022671055626321111109370544217506941658960408\n",
        "07198403850962455444362981230987879927244284909188\n",
        "84580156166097919133875499200524063689912560717606\n",
        "05886116467109405077541002256983155200055935729725\n",
        "71636269561882670428252483600823257530420752963450\"\"\"\n",
        "big_num_list = listed_num(big_num)\n",
        "for i in range(1, 20):\n",
        "  big_num_list.remove('\\n')"
      ],
      "execution_count": 0,
      "outputs": []
    },
    {
      "cell_type": "code",
      "metadata": {
        "id": "L4AaRIx8N2DR",
        "colab_type": "code",
        "outputId": "22da954c-aa06-4c27-fb38-043edd141a1a",
        "colab": {
          "base_uri": "https://localhost:8080/",
          "height": 34
        }
      },
      "source": [
        "i=0\n",
        "test_prod = 1\n",
        "max_prod = 1\n",
        "while i < len(big_num_list):\n",
        "  for j in range(0,13):\n",
        "    if (i+j) < len(big_num_list):\n",
        "#       print(test_prod)\n",
        "      test_prod *= int(big_num_list[i+j])\n",
        "    else:\n",
        "      index = i+j-len(big_num_list)\n",
        "      test_prod *= int(big_num_list[index])\n",
        "#       print(test_prod)\n",
        "    if test_prod >= max_prod:\n",
        "      max_prod = test_prod\n",
        "  test_prod = 1\n",
        "  i+=1\n",
        "\n",
        "print(max_prod)"
      ],
      "execution_count": 0,
      "outputs": [
        {
          "output_type": "stream",
          "text": [
            "23514624000\n"
          ],
          "name": "stdout"
        }
      ]
    },
    {
      "cell_type": "code",
      "metadata": {
        "id": "mMWpRz_bPFce",
        "colab_type": "code",
        "colab": {}
      },
      "source": [
        "def is_pyth_trip(a,b,c):\n",
        "  return a**2+b**2==c**2 "
      ],
      "execution_count": 0,
      "outputs": []
    },
    {
      "cell_type": "code",
      "metadata": {
        "id": "oGiC9XE_SIyp",
        "colab_type": "code",
        "outputId": "eee0d6d1-e010-45c0-c40b-71de9781482b",
        "colab": {
          "base_uri": "https://localhost:8080/",
          "height": 34
        }
      },
      "source": [
        "for a in range(1,1000):\n",
        "  for b in range(a,1000):\n",
        "    c=1000-a-b\n",
        "    if is_pyth_trip(a,b,c):\n",
        "      print(a*b*c)"
      ],
      "execution_count": 0,
      "outputs": [
        {
          "output_type": "stream",
          "text": [
            "31875000\n"
          ],
          "name": "stdout"
        }
      ]
    },
    {
      "cell_type": "code",
      "metadata": {
        "id": "fDBrQK_eSeUU",
        "colab_type": "code",
        "colab": {}
      },
      "source": [
        "def sieve_sum(max_size):\n",
        "  sieve_sum = 0\n",
        "  candidates = list(range(1,max_size))\n",
        "  for candidate in candidates:\n",
        "    if(is_prime(candidate)):\n",
        "      sieve_sum += candidate\n",
        "  return sieve_sum"
      ],
      "execution_count": 0,
      "outputs": []
    },
    {
      "cell_type": "code",
      "metadata": {
        "id": "lWw72yXKT2HB",
        "colab_type": "code",
        "outputId": "6a684016-93ca-4e09-ffba-4c2a61279f4d",
        "colab": {
          "base_uri": "https://localhost:8080/",
          "height": 34
        }
      },
      "source": [
        "sieve_sum(2000000)"
      ],
      "execution_count": 0,
      "outputs": [
        {
          "output_type": "execute_result",
          "data": {
            "text/plain": [
              "142913828922"
            ]
          },
          "metadata": {
            "tags": []
          },
          "execution_count": 76
        }
      ]
    },
    {
      "cell_type": "code",
      "metadata": {
        "id": "qy_0L73nURKB",
        "colab_type": "code",
        "colab": {}
      },
      "source": [
        "num_rows = [\"08 02 22 97 38 15 00 40 00 75 04 05 07 78 52 12 50 77 91 08\",\n",
        "\"49 49 99 40 17 81 18 57 60 87 17 40 98 43 69 48 04 56 62 00\",\n",
        "\"81 49 31 73 55 79 14 29 93 71 40 67 53 88 30 03 49 13 36 65\",\n",
        "\"52 70 95 23 04 60 11 42 69 24 68 56 01 32 56 71 37 02 36 91\",\n",
        "\"22 31 16 71 51 67 63 89 41 92 36 54 22 40 40 28 66 33 13 80\",\n",
        "\"24 47 32 60 99 03 45 02 44 75 33 53 78 36 84 20 35 17 12 50\",\n",
        "\"32 98 81 28 64 23 67 10 26 38 40 67 59 54 70 66 18 38 64 70\",\n",
        "\"67 26 20 68 02 62 12 20 95 63 94 39 63 08 40 91 66 49 94 21\",\n",
        "\"24 55 58 05 66 73 99 26 97 17 78 78 96 83 14 88 34 89 63 72\",\n",
        "\"21 36 23 09 75 00 76 44 20 45 35 14 00 61 33 97 34 31 33 95\",\n",
        "\"78 17 53 28 22 75 31 67 15 94 03 80 04 62 16 14 09 53 56 92\",\n",
        "\"16 39 05 42 96 35 31 47 55 58 88 24 00 17 54 24 36 29 85 57\",\n",
        "\"86 56 00 48 35 71 89 07 05 44 44 37 44 60 21 58 51 54 17 58\",\n",
        "\"19 80 81 68 05 94 47 69 28 73 92 13 86 52 17 77 04 89 55 40\",\n",
        "\"04 52 08 83 97 35 99 16 07 97 57 32 16 26 26 79 33 27 98 66\",\n",
        "\"88 36 68 87 57 62 20 72 03 46 33 67 46 55 12 32 63 93 53 69\",\n",
        "\"04 42 16 73 38 25 39 11 24 94 72 18 08 46 29 32 40 62 76 36\",\n",
        "\"20 69 36 41 72 30 23 88 34 62 99 69 82 67 59 85 74 04 36 16\",\n",
        "\"20 73 35 29 78 31 90 01 74 31 49 71 48 86 81 16 23 57 05 54\",\n",
        "\"01 70 54 71 83 51 54 69 16 92 33 48 61 43 52 01 89 19 67 48\"]\n",
        "\n",
        "for row in range(0, len(num_rows)):\n",
        "  num_rows[row] = num_rows[row].split()\n",
        "  for j in range(0, len(num_rows[row])):\n",
        "    num_rows[row][j] = int(num_rows[row][j])"
      ],
      "execution_count": 0,
      "outputs": []
    },
    {
      "cell_type": "code",
      "metadata": {
        "id": "w_GD-lYkU3UQ",
        "colab_type": "code",
        "colab": {}
      },
      "source": [
        "import numpy as np\n",
        "def check_diag(length, num_list):\n",
        "  k = 0\n",
        "  test_prod = 1\n",
        "  max_prod = 1\n",
        "  for i in range(0, len(num_list[0])):\n",
        "    for j in range(0, len(num_list)):\n",
        "      test_prod=1\n",
        "      while k < length:\n",
        "        i_test = i+k\n",
        "        j_test = j+k\n",
        "        if(i_test > len(num_list[0])):\n",
        "          i_test -= len(num_list[0])\n",
        "        if(j_test > len(num_list)):\n",
        "          i_test -= len(num_list)\n",
        "        test_prod *= num_list[i_test][j_test]\n",
        "        k+=1\n",
        "        if(test_prod>=max_prod):\n",
        "          max_prod = test_prod\n",
        "      \n",
        "  return max_prod\n",
        "\n",
        "def check_up_down(length, num_list, direction):\n",
        "  k=0\n",
        "  test_prod = 1\n",
        "  max_prod = 1\n",
        "  for i in range(0, len(num_list[0])):\n",
        "      for j in range(0, len(num_list)):\n",
        "        test_prod=1\n",
        "        while k < length:\n",
        "          i_test = i+(direction*k)\n",
        "          j_test = j\n",
        "          if(i_test > len(num_list[0])):\n",
        "             i_test -= len(num_list[0])\n",
        "          if(j_test > len(num_list)):\n",
        "            i_test -= len(num_list)\n",
        "          test_prod *= num_list[i_test][j_test]\n",
        "          k+=1\n",
        "      if(test_prod>=max_prod):\n",
        "        max_prod = test_prod\n",
        "#   max_prod = max(max_prod, check_up_down(4, list(np.matrix(num_list).T)))\n",
        "  return max_prod\n",
        "\n",
        "# def check_diag(length, num_list):\n",
        "#   k = 0\n",
        "#   test_prod = 1\n",
        "#   max_prod = 1\n",
        "#   for i in range(0, len(num_list[0])):\n",
        "#     for j in range(0, len(num_list)):\n",
        "#       while k < length:\n",
        "#         i_test = i+k\n",
        "#         j_test = j+k\n",
        "#         if(i_test > len(num_list[0])):\n",
        "#           i_test -= len(num_list[0])\n",
        "#         if(j_test > len(num_list)):\n",
        "#           i_test -= len(num_list)\n",
        "#         test_prod *= num_list[i_test][j_test]\n",
        "#         k+=1\n",
        "#         if(test_prod>=max_prod):\n",
        "#           max_prod = test_prod\n",
        "#       test_prod = 1\n",
        "#   return max_prod"
      ],
      "execution_count": 0,
      "outputs": []
    },
    {
      "cell_type": "code",
      "metadata": {
        "id": "Cx8ws7HH9zBf",
        "colab_type": "code",
        "outputId": "200cedb0-3958-4537-a6f8-6eba2e68a744",
        "colab": {
          "base_uri": "https://localhost:8080/",
          "height": 54
        }
      },
      "source": [
        "print(check_diag(4, num_rows))\n",
        "print(check_up_down(4, num_rows, -1))\n"
      ],
      "execution_count": 0,
      "outputs": [
        {
          "output_type": "stream",
          "text": [
            "279496\n",
            "1\n"
          ],
          "name": "stdout"
        }
      ]
    },
    {
      "cell_type": "code",
      "metadata": {
        "id": "QfD--8l4IMHq",
        "colab_type": "code",
        "outputId": "f7cbd328-91fa-4e10-eb6d-a6581cf1beb6",
        "colab": {
          "base_uri": "https://localhost:8080/",
          "height": 35
        }
      },
      "source": [
        "list(range(4))"
      ],
      "execution_count": 0,
      "outputs": [
        {
          "output_type": "execute_result",
          "data": {
            "text/plain": [
              "[0, 1, 2, 3]"
            ]
          },
          "metadata": {
            "tags": []
          },
          "execution_count": 25
        }
      ]
    },
    {
      "cell_type": "code",
      "metadata": {
        "id": "c4e1NdHSHgjX",
        "colab_type": "code",
        "colab": {}
      },
      "source": [
        "def check_vert(num_rows):\n",
        "  matrified = np.matrix(num_rows)\n",
        "  width = len(num_rows[0])\n",
        "  \n",
        "  test_prod_up = 1\n",
        "  test_prod_down = 1\n",
        "  max_prod = 1\n",
        "  \n",
        "  \n",
        "  i=0\n",
        "  j=0\n",
        "  \n",
        "  for row in num_rows:\n",
        "    for entry in row:\n",
        "      for increase in list(range(4)):\n",
        "        try:\n",
        "          test_prod_up *= num_rows[i+increase][j]\n",
        "        except:\n",
        "          test_prod_up = 1\n",
        "        try:\n",
        "          test_prod_down *= num_rows[i-increase][j]\n",
        "        except:\n",
        "          test_prod_down = 1\n",
        "        \n",
        "        checks = [max_prod, test_prod_up, test_prod_down]\n",
        "        max_prod = max(max_prod, test_prod_up, test_prod_down)\n",
        "        \n",
        "      j+=1\n",
        "      test_prod_up = 1\n",
        "      test_prod_down = 1\n",
        "    i+=1\n",
        "    "
      ],
      "execution_count": 0,
      "outputs": []
    },
    {
      "cell_type": "code",
      "metadata": {
        "id": "Gwlg5pWkLV-W",
        "colab_type": "code",
        "colab": {}
      },
      "source": [
        "def check_diag(num_rows):\n",
        "  matrified = np.matrix(num_rows)\n",
        "  width = len(num_rows[0])\n",
        "  \n",
        "  test_prod_nw = 1\n",
        "  test_prod_ne = 1\n",
        "  test_prod_sw = 1\n",
        "  test_prod_se = 1\n",
        "  max_prod = 1\n",
        "  \n",
        "  \n",
        "  i=0\n",
        "  j=0\n",
        "  \n",
        "  for row in num_rows:\n",
        "    for entry in row:\n",
        "      for increase in list(range(4)):\n",
        "        try:\n",
        "          test_prod_nw *= num_rows[i-increase][j-increase]\n",
        "        except:\n",
        "          test_prod_nw = 1\n",
        "        try:\n",
        "          test_prod_ne *= num_rows[i-increase][j+increase]\n",
        "        except:\n",
        "          test_prod_ne = 1\n",
        "        try:\n",
        "          test_prod_sw *= num_rows[i+increase][j-increase]\n",
        "        except:\n",
        "          test_prod_sw = 1\n",
        "        try:\n",
        "          test_prod_se *= num_rows[i+increase][j+increase]\n",
        "        except:\n",
        "          test_prod_se = 1\n",
        "        if (i < 3):\n",
        "          print(i, j, max_prod, test_prod_nw, test_prod_ne, test_prod_sw, test_prod_se)\n",
        "        max_prod = max(max_prod, test_prod_nw, test_prod_ne, test_prod_sw, test_prod_se)\n",
        "        \n",
        "      j+=1\n",
        "      test_prod_nw = 1\n",
        "      test_prod_ne = 1\n",
        "      test_prod_sw = 1\n",
        "      test_prod_se = 1\n",
        "    i+=1\n",
        "    j=1\n",
        "  return max_prod"
      ],
      "execution_count": 0,
      "outputs": []
    },
    {
      "cell_type": "code",
      "metadata": {
        "id": "epgg5H-jGRz0",
        "colab_type": "code",
        "outputId": "161eb9b8-1258-455e-a965-052c6380af91",
        "colab": {
          "base_uri": "https://localhost:8080/",
          "height": 1000
        }
      },
      "source": [
        "# check_vert(num_rows)\n",
        "transposed = [row.tolist()[0] for row in list(np.matrix(num_rows).T)]\n",
        "transposed\n",
        "check_diag(transposed)"
      ],
      "execution_count": 0,
      "outputs": [
        {
          "output_type": "stream",
          "text": [
            "0 0 1 8 8 8 8\n",
            "0 0 8 384 0 560 392\n",
            "0 0 560 1920 0 19600 12152\n",
            "0 0 19600 7680 0 803600 279496\n",
            "0 1 803600 49 49 49 49\n",
            "0 1 803600 392 3185 98 2401\n",
            "0 1 803600 26264 114660 5292 228095\n",
            "0 1 803600 1497048 3783780 153468 16194745\n",
            "0 2 16194745 81 81 81 81\n",
            "0 2 16194745 0 7371 3969 5670\n",
            "0 2 16194745 0 95823 87318 90720\n",
            "0 2 16194745 0 1628991 6199578 5443200\n",
            "0 3 16194745 52 52 52 52\n",
            "0 3 16194745 3380 4160 2548 1612\n",
            "0 3 16194745 209560 49920 252252 51584\n",
            "0 3 16194745 16136120 1896960 24468444 1444352\n",
            "0 4 24468444 22 22 22 22\n",
            "0 4 24468444 2002 1100 1540 1034\n",
            "0 4 24468444 72072 70400 47740 83754\n",
            "0 4 24468444 4036032 3449600 1909600 5695272\n",
            "0 5 24468444 24 24 24 24\n",
            "0 5 24468444 1920 1680 744 2352\n",
            "0 5 24468444 69120 157920 70680 47040\n",
            "0 5 24468444 898560 14054880 5159640 235200\n",
            "0 6 24468444 32 32 32 32\n",
            "0 6 24468444 1600 672 1504 832\n",
            "0 6 24468444 20800 42336 24064 48256\n",
            "0 6 24468444 41600 1312416 553472 434304\n",
            "0 7 24468444 67 67 67 67\n",
            "0 7 24468444 4690 4824 6566 3685\n",
            "0 7 24468444 56280 159192 210112 84755\n",
            "0 7 24468444 1857240 8437176 14917952 2373140\n",
            "0 8 24468444 24 24 24 24\n",
            "0 8 24468444 504 2280 624 864\n",
            "0 8 24468444 32256 127680 50544 45792\n",
            "0 8 24468444 548352 3702720 3032640 1923264\n",
            "0 9 24468444 21 21 21 21\n",
            "0 9 24468444 1512 1932 1155 357\n",
            "0 9 24468444 142128 164220 23100 1785\n",
            "0 9 24468444 5400864 8867880 646800 85680\n",
            "0 10 24468444 78 78 78 78\n",
            "0 10 24468444 7410 4446 2808 3042\n",
            "0 10 24468444 466830 75582 162864 0\n",
            "0 10 24468444 22874670 6726798 11074752 0\n",
            "0 11 24468444 16 16 16 16\n",
            "0 11 24468444 1472 928 272 896\n",
            "0 11 24468444 48576 51040 6256 72576\n",
            "0 11 24468444 4323264 1378080 31280 6023808\n",
            "0 12 24468444 86 86 86 86\n",
            "0 12 24468444 4902 3440 3354 6880\n",
            "0 12 24468444 274512 337120 177762 55040\n",
            "0 12 24468444 8509872 31352160 1599858 4788480\n",
            "0 13 31352160 19 19 19 19\n",
            "0 13 31352160 1102 1254 1064 988\n",
            "0 13 31352160 93670 66462 5320 67184\n",
            "0 13 31352160 4964510 4120644 148960 4904432\n",
            "0 14 31352160 4 4 4 4\n",
            "0 14 31352160 160 276 320 144\n",
            "0 14 31352160 2720 20976 0 2304\n",
            "0 14 31352160 78880 83904 0 94464\n",
            "0 15 31352160 88 88 88 88\n",
            "0 15 31352160 5808 3168 4576 3696\n",
            "0 15 31352160 319440 114048 370656 133056\n",
            "0 15 31352160 17249760 6500736 17791488 3858624\n",
            "0 16 31352160 4 4 4 4\n",
            "0 16 31352160 276 64 144 276\n",
            "0 16 31352160 27048 320 1152 9660\n",
            "0 16 31352160 2407272 6080 78336 685860\n",
            "0 17 31352160 20 20 20 20\n",
            "0 17 31352160 720 1080 840 1460\n",
            "0 17 31352160 38160 72360 57120 78840\n",
            "0 17 31352160 1030320 1 4740960 1\n",
            "0 18 31352160 20 20 20 20\n",
            "0 18 31352160 320 960 1380 1400\n",
            "0 18 31352160 24320 1 22080 1\n",
            "0 18 31352160 2261760 1 1920960 1\n",
            "0 19 31352160 1 1 1 1\n",
            "0 19 31352160 54 1 73 1\n",
            "0 19 31352160 1944 1 2628 1\n",
            "0 19 31352160 120528 1 191844 1\n",
            "1 1 31352160 49 49 49 49\n",
            "1 1 31352160 392 3969 1078 1519\n",
            "1 1 31352160 18816 361179 76538 34937\n",
            "1 1 31352160 94080 4695327 5969964 1781787\n",
            "1 2 31352160 49 49 49 49\n",
            "1 2 31352160 2401 2548 4851 4655\n",
            "1 2 31352160 19208 203840 470547 330505\n",
            "1 2 31352160 1286936 2446080 39055401 32719995\n",
            "1 3 39055401 70 70 70 70\n",
            "1 3 39055401 5670 1540 2170 1120\n",
            "1 3 39055401 0 77000 86800 67200\n",
            "1 3 39055401 0 4928000 3298400 4300800\n",
            "1 4 39055401 31 31 31 31\n",
            "1 4 39055401 1612 744 2945 992\n",
            "1 4 39055401 104780 52080 214985 27776\n",
            "1 4 39055401 6496360 4895520 3654745 55552\n",
            "1 5 39055401 47 47 47 47\n",
            "1 5 39055401 1034 1504 752 3807\n",
            "1 5 39055401 94094 31584 17296 258876\n",
            "1 5 39055401 3387384 1989792 951280 17085816\n",
            "1 6 39055401 98 98 98 98\n",
            "1 6 39055401 2352 6566 3136 1960\n",
            "1 6 39055401 188160 472752 222656 9800\n",
            "1 6 39055401 6773760 15600816 890624 735000\n",
            "1 7 39055401 26 26 26 26\n",
            "1 7 39055401 832 624 2106 1508\n",
            "1 7 39055401 41600 59280 126360 13572\n",
            "1 7 39055401 540800 3319680 6444360 298584\n",
            "1 8 39055401 55 55 55 55\n",
            "1 8 39055401 3685 1155 1100 1265\n",
            "1 8 39055401 257950 106260 30800 35420\n",
            "1 8 39055401 3095400 9032100 3049200 3400320\n",
            "1 9 39055401 36 36 36 36\n",
            "1 9 39055401 864 2808 2088 1908\n",
            "1 9 39055401 18144 160056 141984 80136\n",
            "1 9 39055401 1161216 2720952 9086976 2804760\n",
            "1 10 39055401 17 17 17 17\n",
            "1 10 39055401 357 272 391 85\n",
            "1 10 39055401 25704 15776 1955 4080\n",
            "1 10 39055401 2416176 867680 3910 20400\n",
            "1 11 39055401 39 39 39 39\n",
            "1 11 39055401 3042 3354 2067 0\n",
            "1 11 39055401 288990 134160 18603 0\n",
            "1 11 39055401 18206370 13147680 1227798 0\n",
            "1 12 39055401 56 56 56 56\n",
            "1 12 39055401 896 1064 280 4536\n",
            "1 12 39055401 82432 70224 7840 376488\n",
            "1 12 39055401 2720256 3721872 588000 21459816\n",
            "1 13 39055401 80 80 80 80\n",
            "1 13 39055401 6880 320 0 640\n",
            "1 13 39055401 392160 22080 0 55680\n",
            "1 13 39055401 21960960 1678080 0 2115840\n",
            "1 14 39055401 52 52 52 52\n",
            "1 14 39055401 988 4576 4212 3536\n",
            "1 14 39055401 57304 164736 202176 258128\n",
            "1 14 39055401 4870840 5930496 19408896 18585216\n",
            "1 15 39055401 36 36 36 36\n",
            "1 15 39055401 144 144 288 576\n",
            "1 15 39055401 5760 2304 19584 23616\n",
            "1 15 39055401 97920 11520 685440 1842048\n",
            "1 16 39055401 42 42 42 42\n",
            "1 16 39055401 3696 840 2856 1512\n",
            "1 16 39055401 243936 45360 237048 43848\n",
            "1 16 39055401 13416480 3039120 1185240 3639384\n",
            "1 17 39055401 69 69 69 69\n",
            "1 17 39055401 276 1380 1104 2415\n",
            "1 17 39055401 19044 66240 96048 171465\n",
            "1 17 39055401 1866312 1 9316656 1\n",
            "1 18 39055401 73 73 73 73\n",
            "1 18 39055401 1460 73 2628 3942\n",
            "1 18 39055401 52560 1 191844 1\n",
            "1 18 39055401 2785680 1 10935108 1\n",
            "1 19 39055401 70 70 70 70\n",
            "1 19 39055401 1400 1 2450 1\n",
            "1 19 39055401 22400 1 100450 1\n",
            "1 19 39055401 1702400 1 3817100 1\n",
            "1 20 39055401 1 1 1 1\n",
            "1 20 39055401 1 1 54 1\n",
            "1 20 39055401 54 1 1566 1\n",
            "1 20 39055401 1944 1 112752 1\n",
            "2 1 39055401 99 99 99 99\n",
            "2 1 39055401 198 4851 9603 7227\n",
            "2 1 39055401 198 252252 797049 28908\n",
            "2 1 39055401 10692 20180160 24708519 1936836\n",
            "2 2 39055401 31 31 31 31\n",
            "2 2 39055401 1519 2170 1240 713\n",
            "2 2 39055401 12152 47740 47120 36363\n",
            "2 2 39055401 583296 2387000 2403120 109089\n",
            "2 3 39055401 95 95 95 95\n",
            "2 3 39055401 4655 2945 6935 6745\n",
            "2 3 39055401 228095 70680 117895 667755\n",
            "2 3 39055401 1824760 4947600 1768425 15358365\n",
            "2 4 39055401 16 16 16 16\n",
            "2 4 39055401 1120 752 368 960\n",
            "2 4 39055401 90720 24064 20240 61440\n",
            "2 4 39055401 0 505344 1639440 3809280\n",
            "2 5 39055401 32 32 32 32\n",
            "2 5 39055401 992 3136 2272 896\n",
            "2 5 39055401 51584 210112 9088 1792\n",
            "2 5 39055401 3352960 15128064 717952 130816\n",
            "2 6 39055401 81 81 81 81\n",
            "2 6 39055401 3807 2106 4860 5508\n",
            "2 6 39055401 83754 50544 247860 363528\n",
            "2 6 39055401 7621614 4801680 14871600 0\n",
            "2 7 39055401 20 20 20 20\n",
            "2 7 39055401 1960 1100 560 100\n",
            "2 7 39055401 47040 23100 55440 7500\n",
            "2 7 39055401 3763200 2125200 3714480 562500\n",
            "2 8 39055401 58 58 58 58\n",
            "2 8 39055401 1508 2088 3944 522\n",
            "2 8 39055401 48256 162864 252416 11484\n",
            "2 8 39055401 2412800 9283248 757248 401940\n",
            "2 9 39055401 23 23 23 23\n",
            "2 9 39055401 1265 391 115 644\n",
            "2 9 39055401 84755 6256 230 61824\n",
            "2 9 39055401 5932850 362848 5290 4389504\n",
            "2 10 39055401 53 53 53 53\n",
            "2 10 39055401 1908 2067 477 2226\n",
            "2 10 39055401 45792 177762 31482 77910\n",
            "2 10 39055401 961632 7110480 1951884 7323540\n",
            "2 11 39055401 5 5 5 5\n",
            "2 11 39055401 85 280 140 240\n",
            "2 11 39055401 1785 5320 10500 1200\n",
            "2 11 39055401 128520 351120 766500 42000\n",
            "2 12 39055401 0 0 0 0\n",
            "2 12 39055401 0 0 0 0\n",
            "2 12 39055401 0 0 0 0\n",
            "2 12 39055401 0 0 0 0\n",
            "2 13 39055401 81 81 81 81\n",
            "2 13 39055401 4536 4212 3888 6723\n",
            "2 13 39055401 72576 370656 373248 383211\n",
            "2 13 39055401 6676992 13343616 27993600 9580275\n",
            "2 14 39055401 8 8 8 8\n",
            "2 14 39055401 640 288 544 696\n",
            "2 14 39055401 55040 1152 19040 26448\n",
            "2 14 39055401 3137280 18432 666400 793440\n",
            "2 15 39055401 68 68 68 68\n",
            "2 15 39055401 3536 2856 5644 4964\n",
            "2 15 39055401 67184 57120 28220 357408\n",
            "2 15 39055401 3896672 3084480 2003620 11079648\n",
            "2 16 39055401 16 16 16 16\n",
            "2 16 39055401 576 1104 1392 656\n",
            "2 16 39055401 2304 22080 135024 51168\n",
            "2 16 39055401 92160 1059840 12692256 2609568\n",
            "2 17 39055401 36 36 36 36\n",
            "2 17 39055401 1512 2628 2628 1044\n",
            "2 17 39055401 133056 2628 149796 86652\n",
            "2 17 39055401 8781696 1 5242860 1\n",
            "2 18 39055401 35 35 35 35\n",
            "2 18 39055401 2415 2450 1435 2485\n",
            "2 18 39055401 9660 1 54530 1\n",
            "2 18 39055401 666540 1 3380860 1\n",
            "2 19 39055401 54 54 54 54\n",
            "2 19 39055401 3942 1 1566 1\n",
            "2 19 39055401 78840 1 112752 1\n",
            "2 19 39055401 2838240 1 2818800 1\n",
            "2 20 39055401 1 1 1 1\n",
            "2 20 39055401 70 1 71 1\n",
            "2 20 39055401 1400 1 5538 1\n",
            "2 20 39055401 22400 1 166140 1\n"
          ],
          "name": "stdout"
        },
        {
          "output_type": "execute_result",
          "data": {
            "text/plain": [
              "70600674"
            ]
          },
          "metadata": {
            "tags": []
          },
          "execution_count": 72
        }
      ]
    },
    {
      "cell_type": "code",
      "metadata": {
        "id": "3RsxUCu0Nx7-",
        "colab_type": "code",
        "colab": {}
      },
      "source": [
        "import math\n",
        "\n",
        "def divisorGenerator(n):\n",
        "    large_divisors = []\n",
        "    for i in range(1, int(math.sqrt(n) + 1)):\n",
        "        if n % i == 0:\n",
        "            yield i\n",
        "            if i*i != n:\n",
        "                large_divisors.append(n / i)\n",
        "    for divisor in reversed(large_divisors):\n",
        "        yield divisor"
      ],
      "execution_count": 0,
      "outputs": []
    },
    {
      "cell_type": "code",
      "metadata": {
        "id": "sbWIYpIWK8cQ",
        "colab_type": "code",
        "colab": {}
      },
      "source": [
        "def triangle_num(n):\n",
        "  # Returns nth triangle number:\n",
        "  i=1\n",
        "  tri_num=0\n",
        "  while i <= n:\n",
        "    tri_num += i\n",
        "    i+=1\n",
        "  return tri_num"
      ],
      "execution_count": 0,
      "outputs": []
    },
    {
      "cell_type": "code",
      "metadata": {
        "id": "AWuakbkdNdGT",
        "colab_type": "code",
        "outputId": "c9dfc5fa-a3d0-4bd6-c2d6-89d3cd5ed414",
        "colab": {
          "base_uri": "https://localhost:8080/",
          "height": 35
        }
      },
      "source": [
        "n=1\n",
        "while len(list(divisorGenerator(triangle_num(n)))) < 502:\n",
        "  n+=1\n",
        "print(n)"
      ],
      "execution_count": 0,
      "outputs": [
        {
          "output_type": "stream",
          "text": [
            "12375\n"
          ],
          "name": "stdout"
        }
      ]
    },
    {
      "cell_type": "code",
      "metadata": {
        "id": "wrY0PkDtOyW9",
        "colab_type": "code",
        "outputId": "16236cfb-3c7d-4b3a-b046-1840a0b16fe0",
        "colab": {
          "base_uri": "https://localhost:8080/",
          "height": 35
        }
      },
      "source": [
        "triangle_num(12375)"
      ],
      "execution_count": 0,
      "outputs": [
        {
          "output_type": "execute_result",
          "data": {
            "text/plain": [
              "76576500"
            ]
          },
          "metadata": {
            "tags": []
          },
          "execution_count": 80
        }
      ]
    },
    {
      "cell_type": "markdown",
      "metadata": {
        "id": "V-roNBz4BEIZ",
        "colab_type": "text"
      },
      "source": [
        "# Find the first 10 digits of the sum of the following one hundred 50 digit numbers"
      ]
    },
    {
      "cell_type": "code",
      "metadata": {
        "id": "ep_4_FoRBCuc",
        "colab_type": "code",
        "colab": {
          "base_uri": "https://localhost:8080/",
          "height": 34
        },
        "outputId": "4bcb033d-63bc-4444-9a28-bc58a98ea191"
      },
      "source": [
        "fifty_dig_nums = [37107287533902102798797998220837590246510135740250,\n",
        "46376937677490009712648124896970078050417018260538,\n",
        "74324986199524741059474233309513058123726617309629,\n",
        "91942213363574161572522430563301811072406154908250,\n",
        "23067588207539346171171980310421047513778063246676,\n",
        "89261670696623633820136378418383684178734361726757,\n",
        "28112879812849979408065481931592621691275889832738,\n",
        "44274228917432520321923589422876796487670272189318,\n",
        "47451445736001306439091167216856844588711603153276,\n",
        "70386486105843025439939619828917593665686757934951,\n",
        "62176457141856560629502157223196586755079324193331,\n",
        "64906352462741904929101432445813822663347944758178,\n",
        "92575867718337217661963751590579239728245598838407,\n",
        "58203565325359399008402633568948830189458628227828,\n",
        "80181199384826282014278194139940567587151170094390,\n",
        "35398664372827112653829987240784473053190104293586,\n",
        "86515506006295864861532075273371959191420517255829,\n",
        "71693888707715466499115593487603532921714970056938,\n",
        "54370070576826684624621495650076471787294438377604,\n",
        "53282654108756828443191190634694037855217779295145,\n",
        "36123272525000296071075082563815656710885258350721,\n",
        "45876576172410976447339110607218265236877223636045,\n",
        "17423706905851860660448207621209813287860733969412,\n",
        "81142660418086830619328460811191061556940512689692,\n",
        "51934325451728388641918047049293215058642563049483,\n",
        "62467221648435076201727918039944693004732956340691,\n",
        "15732444386908125794514089057706229429197107928209,\n",
        "55037687525678773091862540744969844508330393682126,\n",
        "18336384825330154686196124348767681297534375946515,\n",
        "80386287592878490201521685554828717201219257766954,\n",
        "78182833757993103614740356856449095527097864797581,\n",
        "16726320100436897842553539920931837441497806860984,\n",
        "48403098129077791799088218795327364475675590848030,\n",
        "87086987551392711854517078544161852424320693150332,\n",
        "59959406895756536782107074926966537676326235447210,\n",
        "69793950679652694742597709739166693763042633987085,\n",
        "41052684708299085211399427365734116182760315001271,\n",
        "65378607361501080857009149939512557028198746004375,\n",
        "35829035317434717326932123578154982629742552737307,\n",
        "94953759765105305946966067683156574377167401875275,\n",
        "88902802571733229619176668713819931811048770190271,\n",
        "25267680276078003013678680992525463401061632866526,\n",
        "36270218540497705585629946580636237993140746255962,\n",
        "24074486908231174977792365466257246923322810917141,\n",
        "91430288197103288597806669760892938638285025333403,\n",
        "34413065578016127815921815005561868836468420090470,\n",
        "23053081172816430487623791969842487255036638784583,\n",
        "11487696932154902810424020138335124462181441773470,\n",
        "63783299490636259666498587618221225225512486764533,\n",
        "67720186971698544312419572409913959008952310058822,\n",
        "95548255300263520781532296796249481641953868218774,\n",
        "76085327132285723110424803456124867697064507995236,\n",
        "37774242535411291684276865538926205024910326572967,\n",
        "23701913275725675285653248258265463092207058596522,\n",
        "29798860272258331913126375147341994889534765745501,\n",
        "18495701454879288984856827726077713721403798879715,\n",
        "38298203783031473527721580348144513491373226651381,\n",
        "34829543829199918180278916522431027392251122869539,\n",
        "40957953066405232632538044100059654939159879593635,\n",
        "29746152185502371307642255121183693803580388584903,\n",
        "41698116222072977186158236678424689157993532961922,\n",
        "62467957194401269043877107275048102390895523597457,\n",
        "23189706772547915061505504953922979530901129967519,\n",
        "86188088225875314529584099251203829009407770775672,\n",
        "11306739708304724483816533873502340845647058077308,\n",
        "82959174767140363198008187129011875491310547126581,\n",
        "97623331044818386269515456334926366572897563400500,\n",
        "42846280183517070527831839425882145521227251250327,\n",
        "55121603546981200581762165212827652751691296897789,\n",
        "32238195734329339946437501907836945765883352399886,\n",
        "75506164965184775180738168837861091527357929701337,\n",
        "62177842752192623401942399639168044983993173312731,\n",
        "32924185707147349566916674687634660915035914677504,\n",
        "99518671430235219628894890102423325116913619626622,\n",
        "73267460800591547471830798392868535206946944540724,\n",
        "76841822524674417161514036427982273348055556214818,\n",
        "97142617910342598647204516893989422179826088076852,\n",
        "87783646182799346313767754307809363333018982642090,\n",
        "10848802521674670883215120185883543223812876952786,\n",
        "71329612474782464538636993009049310363619763878039,\n",
        "62184073572399794223406235393808339651327408011116,\n",
        "66627891981488087797941876876144230030984490851411,\n",
        "60661826293682836764744779239180335110989069790714,\n",
        "85786944089552990653640447425576083659976645795096,\n",
        "66024396409905389607120198219976047599490197230297,\n",
        "64913982680032973156037120041377903785566085089252,\n",
        "16730939319872750275468906903707539413042652315011,\n",
        "94809377245048795150954100921645863754710598436791,\n",
        "78639167021187492431995700641917969777599028300699,\n",
        "15368713711936614952811305876380278410754449733078,\n",
        "40789923115535562561142322423255033685442488917353,\n",
        "44889911501440648020369068063960672322193204149535,\n",
        "41503128880339536053299340368006977710650566631954,\n",
        "81234880673210146739058568557934581403627822703280,\n",
        "82616570773948327592232845941706525094512325230608,\n",
        "22918802058777319719839450180888072429661980811197,\n",
        "77158542502016545090413245809786882778948721859617,\n",
        "72107838435069186155435662884062257473692284509516,\n",
        "20849603980134001723930671666823555245252804609722,\n",
        "53503534226472524250874054075591789781264330331690]\n",
        "sum(fifty_dig_nums)"
      ],
      "execution_count": 2,
      "outputs": [
        {
          "output_type": "execute_result",
          "data": {
            "text/plain": [
              "5537376230390876637302048746832985971773659831892672"
            ]
          },
          "metadata": {
            "tags": []
          },
          "execution_count": 2
        }
      ]
    },
    {
      "cell_type": "markdown",
      "metadata": {
        "id": "6-b3cryvCIuf",
        "colab_type": "text"
      },
      "source": [
        "# The following iterative sequence is defined for the set of positive integers:\n",
        "\n",
        "## n → n/2 (n is even)\n",
        "## n → 3n + 1 (n is odd)\n",
        "\n",
        "Using the rule above and starting with 13, we generate the following sequence:\n",
        "\n",
        "13 → 40 → 20 → 10 → 5 → 16 → 8 → 4 → 2 → 1\n",
        "It can be seen that this sequence (starting at 13 and finishing at 1) contains 10 terms. Although it has not been proved yet (Collatz Problem), it is thought that all starting numbers finish at 1.\n",
        "\n",
        "Which starting number, under one million, produces the longest chain?\n",
        "\n",
        "NOTE: Once the chain starts the terms are allowed to go above one million."
      ]
    },
    {
      "cell_type": "code",
      "metadata": {
        "id": "C3_yHFOXCPut",
        "colab_type": "code",
        "colab": {
          "base_uri": "https://localhost:8080/",
          "height": 34
        },
        "outputId": "d176bbe4-c311-4af1-90ea-46582f366337"
      },
      "source": [
        "def iterate(n):\n",
        "  if n%2==1:\n",
        "    return 3*n+1\n",
        "  else:\n",
        "    return (n/2)\n",
        "\n",
        "def it_seq(n):\n",
        "  next = n\n",
        "  seq = []\n",
        "  while next != 1:\n",
        "    seq.append(next)\n",
        "#     print(next)\n",
        "    next = iterate(next)\n",
        "  return seq\n",
        "\n",
        "seq_lens = [len(it_seq(n)) for n in range(1, 1000000)]\n",
        "max_len = max(seq_lens)\n",
        "# Prints starting number for sequence of max length\n",
        "seq_lens.index(max_len) + 1"
      ],
      "execution_count": 22,
      "outputs": [
        {
          "output_type": "execute_result",
          "data": {
            "text/plain": [
              "837799"
            ]
          },
          "metadata": {
            "tags": []
          },
          "execution_count": 22
        }
      ]
    },
    {
      "cell_type": "code",
      "metadata": {
        "id": "R8goquh9FF0q",
        "colab_type": "code",
        "colab": {}
      },
      "source": [
        "\n"
      ],
      "execution_count": 0,
      "outputs": []
    }
  ]
}